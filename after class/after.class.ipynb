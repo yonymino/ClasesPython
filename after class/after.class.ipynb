{
 "cells": [
  {
   "cell_type": "code",
   "execution_count": 10,
   "metadata": {},
   "outputs": [
    {
     "name": "stdout",
     "output_type": "stream",
     "text": [
      " el resultado del calculo es 24\n"
     ]
    }
   ],
   "source": [
    "# F \" de funcion  que da ordenes \"\n",
    "print (f\" el resultado del calculo es {450 % 71}\")"
   ]
  },
  {
   "cell_type": "markdown",
   "metadata": {},
   "source": [
    "\"ana\" > \"Ana\""
   ]
  },
  {
   "cell_type": "code",
   "execution_count": 11,
   "metadata": {},
   "outputs": [
    {
     "name": "stdout",
     "output_type": "stream",
     "text": [
      "Tu grupo es B\n"
     ]
    }
   ],
   "source": [
    "nombre = input(\"¿Cómo te llamas?: \").upper()\n",
    "preferencia = input(\"¿Cuál es tu preferencia favorita, M o C?: \").upper()\n",
    "\n",
    "if preferencia == \"M\" and nombre[0] <= \"M\":\n",
    "    print(\"Tu grupo es A\")\n",
    "elif preferencia == \"C\" and nombre[0] >= \"N\":\n",
    "    print(\"Tu grupo es A\")\n",
    "else:\n",
    "    print(\"Tu grupo es B\")\n"
   ]
  }
 ],
 "metadata": {
  "kernelspec": {
   "display_name": "Python 3",
   "language": "python",
   "name": "python3"
  },
  "language_info": {
   "codemirror_mode": {
    "name": "ipython",
    "version": 3
   },
   "file_extension": ".py",
   "mimetype": "text/x-python",
   "name": "python",
   "nbconvert_exporter": "python",
   "pygments_lexer": "ipython3",
   "version": "3.12.3"
  }
 },
 "nbformat": 4,
 "nbformat_minor": 2
}
