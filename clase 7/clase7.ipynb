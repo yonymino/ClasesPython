{
 "cells": [
  {
   "cell_type": "markdown",
   "metadata": {},
   "source": []
  },
  {
   "cell_type": "code",
   "execution_count": 14,
   "metadata": {},
   "outputs": [
    {
     "name": "stdout",
     "output_type": "stream",
     "text": [
      "hola\n",
      "fin\n",
      "hola\n",
      "fin\n",
      "hola\n",
      "fin\n"
     ]
    }
   ],
   "source": [
    "n = 0\n",
    "while n < 3: \n",
    "    print(\"hola\")\n",
    "    n += 1     # n++34\n",
    "\n",
    "    print (\"fin\")\n",
    "\n",
    "    \n",
    "    \n",
    "    "
   ]
  },
  {
   "cell_type": "code",
   "execution_count": 19,
   "metadata": {},
   "outputs": [
    {
     "name": "stdout",
     "output_type": "stream",
     "text": [
      "Menu (1) consultar saldo  (2) imprimir transaccion  (3) salir  \n"
     ]
    }
   ],
   "source": [
    "\n",
    "while True: \n",
    "    print(\"Menu (1) consultar saldo  (2) imprimir transaccion  (3) salir  \")\n",
    "    opcion = input (\"ingresa la opcion elegida: \")\n",
    "    1\n",
    "    if opcion ==\"1\" or opcion== \"2\"or opcion== \"3\":\n",
    "        \n",
    "        break\n",
    "    print(\"la opcion elegida fue \", opcion)\n",
    "    "
   ]
  },
  {
   "cell_type": "code",
   "execution_count": 35,
   "metadata": {},
   "outputs": [
    {
     "name": "stdout",
     "output_type": "stream",
     "text": [
      "yo soy : jonathan Miño mi edad es : 32 y vivo corrientes 123\n"
     ]
    }
   ],
   "source": [
    "# formas de print  #1\n",
    "edad = 32  \n",
    "nombre = \"jonathan Miño\" \n",
    "Domicilio = \"corrientes 123\"\n",
    "\n",
    "\n",
    "print(\"yo soy :\",nombre,\"mi edad es :\" ,edad, \"y vivo\",Domicilio)"
   ]
  },
  {
   "cell_type": "code",
   "execution_count": 59,
   "metadata": {},
   "outputs": [
    {
     "name": "stdout",
     "output_type": "stream",
     "text": [
      "Yo soy jonathan, mi edad es 32 y vivo en corrientes 123. En mi próximo cumpleaños voy a tener 33 años\n"
     ]
    }
   ],
   "source": [
    "nombre = \"jonathan\"\n",
    "edad = 32\n",
    "domicilio = \"corrientes 123\"\n",
    "\n",
    "print(f\"Yo soy {nombre}, mi edad es {edad} y vivo en {domicilio}. En mi próximo cumpleaños voy a tener {edad + 1} años\")\n"
   ]
  },
  {
   "cell_type": "code",
   "execution_count": 61,
   "metadata": {},
   "outputs": [
    {
     "name": "stdout",
     "output_type": "stream",
     "text": [
      "hola soy jonathan, mi edad es 32 y vivo en corrientes. En mi próximo cumpleaños voy a tener 33.\n"
     ]
    }
   ],
   "source": [
    "#3\n",
    "nombre = \"jonathan\"\n",
    "edad = 32\n",
    "domicilio = \"corrientes\"\n",
    "\n",
    "print(\"hola soy {}, mi edad es {} y vivo en {}. En mi próximo cumpleaños voy a tener {}.\".format(nombre, edad, domicilio, edad + 1))\n"
   ]
  },
  {
   "cell_type": "code",
   "execution_count": 2,
   "metadata": {},
   "outputs": [
    {
     "name": "stdout",
     "output_type": "stream",
     "text": [
      "El siguiente múltiplo de 867 después de  es 78030.\n"
     ]
    }
   ],
   "source": [
    "#Encontrar el siguiente numero mayor a base que sea multiplo de 867\n",
    "\n",
    "base = 77686\n",
    "while base % 867 != 0:\n",
    "    base += 1\n",
    "\n",
    "print(f\"El siguiente múltiplo de 867 después de  es {base}.\")\n",
    "\n",
    "\n"
   ]
  },
  {
   "cell_type": "code",
   "execution_count": 3,
   "metadata": {},
   "outputs": [
    {
     "data": {
      "text/plain": [
       "90.0"
      ]
     },
     "execution_count": 3,
     "metadata": {},
     "output_type": "execute_result"
    }
   ],
   "source": [
    "78030/867"
   ]
  },
  {
   "cell_type": "code",
   "execution_count": 9,
   "metadata": {},
   "outputs": [
    {
     "name": "stdout",
     "output_type": "stream",
     "text": [
      "la suma total es  20\n",
      "la suma total es  24\n",
      "la suma total es  25\n"
     ]
    }
   ],
   "source": [
    "suma = 0 \n",
    "num_a_sumar =input(\"ingrese el numero a sumar :\")\n",
    "\n",
    "while num_a_sumar != \"exit()\":\n",
    "    suma += int(num_a_sumar)\n",
    "    num_a_sumar = input(\"ingrese numero a sumar :\")\n",
    "    \n",
    "    print (f\"la suma total es  {suma}\")"
   ]
  },
  {
   "cell_type": "code",
   "execution_count": 10,
   "metadata": {},
   "outputs": [
    {
     "name": "stdout",
     "output_type": "stream",
     "text": [
      "n= 2\n",
      "n= 4\n",
      "n= 6\n",
      "n= 8\n",
      "n= 10\n"
     ]
    }
   ],
   "source": [
    "# bucles en Python \"continue\"\n",
    "n =1 \n",
    "\n",
    "while n <= 10 :\n",
    "    if n%2 !=0:\n",
    "        n += 1\n",
    "        continue\n",
    "    print(\"n=\",n)\n",
    "    n +=1 "
   ]
  },
  {
   "cell_type": "code",
   "execution_count": 18,
   "metadata": {},
   "outputs": [
    {
     "name": "stdout",
     "output_type": "stream",
     "text": [
      "feliz dia juan\n",
      "feliz dia ana\n",
      "feliz dia pedro\n",
      "feliz dia maria\n",
      "feliz dia jose\n"
     ]
    }
   ],
   "source": [
    "# for #\n",
    "# - ciclos de estructura de datos \n",
    "# - ciclos con Range \n",
    "\n",
    "amigos = [\"juan\",\"ana\",\"pedro\",\"maria\", \"jose\"]\n",
    "\n",
    "for nombre in amigos:\n",
    "    \n",
    "    print(\"feliz dia\", nombre)\n",
    "          "
   ]
  },
  {
   "cell_type": "code",
   "execution_count": 23,
   "metadata": {},
   "outputs": [
    {
     "name": "stdout",
     "output_type": "stream",
     "text": [
      "mi amigo nro0 es juan\n",
      "mi amigo nro1 es ana\n",
      "mi amigo nro2 es pedro\n",
      "mi amigo nro3 es maria\n",
      "mi amigo nro4 es jose\n"
     ]
    }
   ],
   "source": [
    "for posicion ,nombre in enumerate(amigos):\n",
    "    print (f\"mi amigo nro{posicion} es {nombre}\")"
   ]
  },
  {
   "cell_type": "code",
   "execution_count": 27,
   "metadata": {},
   "outputs": [
    {
     "name": "stdout",
     "output_type": "stream",
     "text": [
      "0\n",
      "1\n",
      "2\n",
      "3\n",
      "4\n",
      "5\n",
      "6\n",
      "7\n",
      "8\n",
      "9\n"
     ]
    }
   ],
   "source": [
    "# Range\n",
    "# 1 argunmento devuelve desde el 0 hasta el n-1\n",
    "for marte in range(10): \n",
    "    print(f\"{marte}\")"
   ]
  },
  {
   "cell_type": "code",
   "execution_count": 29,
   "metadata": {},
   "outputs": [
    {
     "name": "stdout",
     "output_type": "stream",
     "text": [
      "Me gustan los aviones, me gustas tú\n",
      "Me gusta viajar, me gustas tú\n",
      "Me gusta la mañana, me gustas tú\n",
      "Me gusta el viento, me gustas tú\n",
      "Me gusta soñar, me gustas tú\n",
      "Me gusta la mar, me gustas tú\n"
     ]
    }
   ],
   "source": [
    "# letra de cancion\n",
    "\n",
    "letra = [\"Me gustan los aviones, me gustas tú\",\n",
    "\n",
    "         \"Me gusta viajar, me gustas tú\",\n",
    "\n",
    "         \"Me gusta la mañana, me gustas tú\",\n",
    "\n",
    "         \"Me gusta el viento, me gustas tú\",\n",
    "\n",
    "         \"Me gusta soñar, me gustas tú\",\n",
    "\n",
    "         \"Me gusta la mar, me gustas tú\"]\n",
    "\n",
    " \n",
    "\n",
    "for parrafo in letra:\n",
    "\n",
    "    print (parrafo)"
   ]
  }
 ],
 "metadata": {
  "kernelspec": {
   "display_name": "Python 3",
   "language": "python",
   "name": "python3"
  },
  "language_info": {
   "codemirror_mode": {
    "name": "ipython",
    "version": 3
   },
   "file_extension": ".py",
   "mimetype": "text/x-python",
   "name": "python",
   "nbconvert_exporter": "python",
   "pygments_lexer": "ipython3",
   "version": "3.12.3"
  }
 },
 "nbformat": 4,
 "nbformat_minor": 2
}
