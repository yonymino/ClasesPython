{
 "cells": [
  {
   "cell_type": "code",
   "execution_count": 53,
   "metadata": {},
   "outputs": [],
   "source": [
    "#funciones 1\n",
    "# def = definicion\n",
    "  #>>> def NOMBRE  ( parametro):\n",
    " # SENTENCIA  RETURN : retornar ¨[EXPRESION]\n",
    " \n",
    "def potencia (b,e):\n",
    "    resultado =b**e #\"es una una expresion local\"\n",
    "    print(f\"mi nombre es {nombre}\")\n",
    "    return  resultado\n",
    "\n",
    "    nombre = \"jonathan\"   # es global\n",
    "    print(potencia(2,4))"
   ]
  },
  {
   "cell_type": "code",
   "execution_count": 61,
   "metadata": {},
   "outputs": [],
   "source": [
    "def ciudad (nombre):\n",
    "    saludo =print (\"hola bienvenido a {nombre}\")\n",
    "    \n",
    "    \n",
    "    return saludo\n",
    "\n",
    "\n",
    "nombre = input(\"ciudad de destino\")\n",
    "ciudad = nombre "
   ]
  }
 ],
 "metadata": {
  "kernelspec": {
   "display_name": "Python 3",
   "language": "python",
   "name": "python3"
  },
  "language_info": {
   "codemirror_mode": {
    "name": "ipython",
    "version": 3
   },
   "file_extension": ".py",
   "mimetype": "text/x-python",
   "name": "python",
   "nbconvert_exporter": "python",
   "pygments_lexer": "ipython3",
   "version": "3.12.3"
  }
 },
 "nbformat": 4,
 "nbformat_minor": 2
}
