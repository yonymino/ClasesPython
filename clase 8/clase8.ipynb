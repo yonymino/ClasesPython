{
 "cells": [
  {
   "cell_type": "code",
   "execution_count": 2,
   "metadata": {},
   "outputs": [],
   "source": [
    "#funciones 1\n",
    "# def = definicion\n",
    "  #>>> def NOMBRE  ( parametro):\n",
    " # SENTENCIA  RETURN : retornar ¨[EXPRESION]\n",
    "def saludar():\n",
    "    print(\"estoy saludadno desde funcion\")\n",
    "    lallamamos:saludar()"
   ]
  }
 ],
 "metadata": {
  "kernelspec": {
   "display_name": "Python 3",
   "language": "python",
   "name": "python3"
  },
  "language_info": {
   "codemirror_mode": {
    "name": "ipython",
    "version": 3
   },
   "file_extension": ".py",
   "mimetype": "text/x-python",
   "name": "python",
   "nbconvert_exporter": "python",
   "pygments_lexer": "ipython3",
   "version": "3.12.3"
  }
 },
 "nbformat": 4,
 "nbformat_minor": 2
}
